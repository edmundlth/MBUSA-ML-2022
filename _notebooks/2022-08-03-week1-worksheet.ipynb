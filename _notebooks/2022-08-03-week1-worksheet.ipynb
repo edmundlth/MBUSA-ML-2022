{
 "cells": [
  {
   "cell_type": "markdown",
   "metadata": {},
   "source": [
    "# Week 1 workshop discussions\n",
    "> We talk about element of machine learning, including data, model, performance measure, cross-validation, ROC, etc... \n",
    "\n",
    "- toc: true \n",
    "- badges: true\n",
    "- comments: true\n",
    "- categories: [machine-learning, workshop]\n"
   ]
  },
  {
   "cell_type": "markdown",
   "metadata": {},
   "source": [
    "----\n",
    "# Summary\n",
    "----\n",
    "Some main take away from the workshop discussion: \n",
    "  - We are "
   ]
  },
  {
   "cell_type": "markdown",
   "metadata": {},
   "source": [
    "\n",
    "This is the handwritten note that correspond loosely to what was written on the whiteboard in class. \n",
    "<iframe src=\"https://drive.google.com/file/d/1zi_JNpiEEiLs0DHbYqTFTKCA-1hicnhY/preview\" width=\"100%\" height=\"500\" allow=\"autoplay\"></iframe>\n",
    "\n",
    "\n"
   ]
  },
  {
   "cell_type": "code",
   "execution_count": 4,
   "metadata": {
    "slideshow": {
     "slide_type": "fragment"
    }
   },
   "outputs": [],
   "source": [
    "#collapse-hide\n",
    "\n",
    "import numpy as np\n",
    "import pandas as pd\n",
    "import matplotlib.pyplot as plt\n",
    "import io"
   ]
  },
  {
   "cell_type": "markdown",
   "metadata": {},
   "source": [
    "# UNDER CONSTRUCTION!!!"
   ]
  },
  {
   "cell_type": "code",
   "execution_count": null,
   "metadata": {
    "collapsed": true,
    "slideshow": {
     "slide_type": "slide"
    }
   },
   "outputs": [],
   "source": [
    "from sklearn.datasets import load_iris\n",
    "\n",
    "X, y = load_iris(return_X_y=True)\n",
    "\n",
    "print(\"There are {} instances and {} features\".format(X.shape[0], X.shape[1]))\n",
    "print(\"There are {} classes\".format(np.unique(y).size))"
   ]
  },
  {
   "cell_type": "markdown",
   "metadata": {
    "slideshow": {
     "slide_type": "slide"
    }
   },
   "source": [
    "Let's see how cross-validation works in scikit-learn. $k$-fold cross-validation is implemented in `sklearn.model_selection.KFold`. \n",
    "\n",
    "We start by instantiating a KFold instance, which takes the number of splits ($k$) as an argument. You can also specify whether to randomly shuffle the data before partitioning into folds (it's safest to set this to True).\n",
    "\n",
    "We then call the `split` method on the iris data set and carry out some operations for each round in a for-loop.\n",
    "Note that the `train` and `test` arrays for each round are indices into the original data. We can access the feature vectors/labels using array indexing."
   ]
  },
  {
   "cell_type": "code",
   "execution_count": null,
   "metadata": {
    "collapsed": true,
    "slideshow": {
     "slide_type": "slide"
    }
   },
   "outputs": [],
   "source": [
    "from sklearn.model_selection import KFold\n",
    "\n",
    "kf = KFold(n_splits=2, shuffle=True)\n",
    "for train, test in kf.split(X):\n",
    "    print(\"-----\")\n",
    "    print(\"Items in train:\", train)\n",
    "    print(\"Items in test:\", test)"
   ]
  },
  {
   "cell_type": "markdown",
   "metadata": {
    "slideshow": {
     "slide_type": "slide"
    }
   },
   "source": [
    "Below we estimate the accuracy of a logistic regression classifier using a held-out test set."
   ]
  },
  {
   "cell_type": "code",
   "execution_count": null,
   "metadata": {
    "collapsed": true,
    "slideshow": {
     "slide_type": "fragment"
    }
   },
   "outputs": [],
   "source": [
    "from sklearn.linear_model import LogisticRegression\n",
    "from sklearn.model_selection import train_test_split\n",
    "\n",
    "X_train, X_test, y_train, y_test = train_test_split(X, y, test_size=0.2)\n",
    "clf = LogisticRegression()\n",
    "clf.fit(X_train, y_train)\n",
    "print(\"Accuracy on held-out test set:\", clf.score(X_test, y_test))"
   ]
  },
  {
   "cell_type": "code",
   "execution_count": null,
   "metadata": {
    "collapsed": true
   },
   "outputs": [],
   "source": []
  }
 ],
 "metadata": {
  "kernelspec": {
   "display_name": "Python 3 (ipykernel)",
   "language": "python",
   "name": "python3"
  },
  "language_info": {
   "codemirror_mode": {
    "name": "ipython",
    "version": 3
   },
   "file_extension": ".py",
   "mimetype": "text/x-python",
   "name": "python",
   "nbconvert_exporter": "python",
   "pygments_lexer": "ipython3",
   "version": "3.9.13"
  },
  "rise": {
   "scroll": true
  },
  "vscode": {
   "interpreter": {
    "hash": "5c1382f303df8774375e8604d77173f7853108ff6bb0b3e80898b29f9072b1de"
   }
  }
 },
 "nbformat": 4,
 "nbformat_minor": 2
}
