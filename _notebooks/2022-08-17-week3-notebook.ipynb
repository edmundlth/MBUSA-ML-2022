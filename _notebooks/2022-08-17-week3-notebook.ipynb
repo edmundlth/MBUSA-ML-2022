{
 "cells": [
  {
   "cell_type": "markdown",
   "id": "851852d0",
   "metadata": {},
   "source": [
    "# Week 3 notebook\n",
    "> This notebook provide a simple SVM demo for you to play with. \n",
    "\n",
    "- toc: true \n",
    "- badges: true\n",
    "- comments: true\n",
    "- categories: [machine-learning, workshop, support-vector-machine]\n"
   ]
  },
  {
   "cell_type": "markdown",
   "id": "14f5b556",
   "metadata": {},
   "source": [
    "# SVM - demo\n",
    "You can use any of the above option to run this notebook in the cloud.  \n",
    "\n",
    "Run the following cell and play around with the slide bar to construct your own hyperplane with \"maximum margin\". The red line correspond to the \"true\" margin (used to generate the data, and you should never know what that is in practice). \n",
    "\n",
    "\n",
    "Question: \n",
    "  - Does your solution (orange) match up with the red line? Put another way, is the red line (truth) always the maximum margin hyperplane given the data? \n",
    "  - What is the effect of increasing `n`? i.e. if we collect more data, does the optimised SVM boundary line up better with the true (red) boundary when `n` is large? "
   ]
  },
  {
   "cell_type": "code",
   "execution_count": 1,
   "id": "4c22a44a",
   "metadata": {},
   "outputs": [],
   "source": [
    "#collapse-hide\n",
    "import numpy as np\n",
    "import matplotlib.pyplot as plt\n",
    "from ipywidgets import interact"
   ]
  },
  {
   "cell_type": "code",
   "execution_count": 10,
   "id": "826e8488",
   "metadata": {},
   "outputs": [
    {
     "data": {
      "application/vnd.jupyter.widget-view+json": {
       "model_id": "077f45a896c94395a84514b58ce73795",
       "version_major": 2,
       "version_minor": 0
      },
      "text/plain": [
       "interactive(children=(FloatSlider(value=-0.5, description='w', max=3.0, min=-3.0), FloatSlider(value=0.5, desc…"
      ]
     },
     "metadata": {},
     "output_type": "display_data"
    }
   ],
   "source": [
    "w0 = -1.5 # y = w0 * x + b0\n",
    "b0 = 1\n",
    "xaxis = np.linspace(0, 1, num=10)\n",
    "\n",
    "\n",
    "max_n = 100\n",
    "all_data = np.random.rand(max_n, 2)\n",
    "all_y = (all_data[:, 1] > all_data[:, 0] * w0 + b0)\n",
    "\n",
    "\n",
    "@interact(w=(-3., 3.), b=(-3., 3.), n=(10, 100))\n",
    "def plot(w=-0.5, b=0.5, n=10):\n",
    "    data = all_data[:n, :]\n",
    "    y = all_y[:n]\n",
    "    fig, ax = plt.subplots(1, 1, figsize=(8, 8))\n",
    "    ax.plot(data[y, 0], data[y, 1], \"r*\", markersize=15)\n",
    "    ax.plot(data[~y, 0], data[~y, 1], \"b*\", markersize=15)\n",
    "    ax.set_xlim(0, 1)\n",
    "    ax.set_ylim(0, 1)\n",
    "    ax.plot(xaxis, w0 * xaxis + b0, 'r--')\n",
    "    ax.plot(xaxis, w * xaxis + b, color=\"orange\")"
   ]
  },
  {
   "cell_type": "code",
   "execution_count": null,
   "id": "eefdf75b",
   "metadata": {},
   "outputs": [],
   "source": []
  }
 ],
 "metadata": {
  "kernelspec": {
   "display_name": "Python 3 (ipykernel)",
   "language": "python",
   "name": "python3"
  },
  "language_info": {
   "codemirror_mode": {
    "name": "ipython",
    "version": 3
   },
   "file_extension": ".py",
   "mimetype": "text/x-python",
   "name": "python",
   "nbconvert_exporter": "python",
   "pygments_lexer": "ipython3",
   "version": "3.9.12"
  }
 },
 "nbformat": 4,
 "nbformat_minor": 5
}
