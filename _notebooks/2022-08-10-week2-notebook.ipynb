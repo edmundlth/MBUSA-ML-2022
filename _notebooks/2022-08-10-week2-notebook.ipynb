{
 "cells": [
  {
   "cell_type": "markdown",
   "id": "5ac68592",
   "metadata": {},
   "source": [
    "# Week 2 workshop discussions\n",
    "> We talk about entropy, decision trees and random forest. \n",
    "\n",
    "- toc: true \n",
    "- badges: true\n",
    "- comments: true\n",
    "- categories: [machine-learning, workshop, decision-tree, random-forest, information-theory]\n"
   ]
  },
  {
   "cell_type": "markdown",
   "id": "d48f4e83",
   "metadata": {},
   "source": [
    "----\n",
    "# Workshop plan\n",
    "\n",
    " 1. We will first finish up NaiveBayes classifier from last week. We will do demo on this, illustrating Bayesian inference and the \"naive\" assumption. This will hopefully illustrate some aspect of information entropy as well. \n",
    " 2. Then we will talk about DecisionTreeClassifier. We will discuss this in detail. It is important to understand the \"splitting criterion\". \n",
    "   - We will understand the basic concept of **Entropy** first. (Q1 written) \n",
    "     - Demo: number guessing game, probable event encoding. \n",
    "     - Entropy as \"average surprise\". We want \"additive surprise on independent events\". \n",
    "     - Entropy as a function of distribution. $H(p)$\n",
    "     - Entropy as a funciton of random variable. $H(X)$\n",
    "     - Entropy of a set. $H(A)$\n",
    "     - Conditional entropy. $H(Y | X)$\n",
    "   - Use entropy to define \"information gain\". (Q2 written). \n",
    " 3. Next, we talk about \"ensembling\". \n",
    "   - Example: \"crowd wisdom\". \n",
    "   - The need for classifiers to be \"as independent / diverse as possible\". \n",
    "   - Bagging: drawing with replacement. \n",
    "   - Random Forest classifier. \n",
    " 4. Some coding exercise: Q3, Q4. We will see some \"preprocessing\" of data. \n",
    " 5. We will talk about what ML people call \"hyperparameters\". Why \"hyper\"? \n",
    "   - Hyperparameters in random forest Q5. \n",
    " 6. If time permits, we will talk about: \n",
    "   - Any question you have. \n",
    "   - Overfitting. \n",
    "   - Some possibly useful external materials for better understanding. \n",
    " 7. Summary. What do you absolutely need to master from these very diverse materials? \n"
   ]
  },
  {
   "cell_type": "code",
   "execution_count": 90,
   "id": "124b155a",
   "metadata": {},
   "outputs": [],
   "source": [
    "#collapse-hide\n",
    "import numpy as np\n",
    "import matplotlib.pyplot as plt\n",
    "import scipy\n",
    "\n",
    "from ipywidgets import interact"
   ]
  },
  {
   "cell_type": "markdown",
   "id": "baacf854",
   "metadata": {},
   "source": [
    "---\n",
    "# Bayesian inference demo\n",
    "---\n",
    "Below is a classic demonstration of Bayesian inference. The likelihood we set up will also illustrate the \"naive\" assumptions used in the NaiveBayes classifier. \n",
    "\n",
    "## Set up\n",
    "A point $(x^*, y^*)$ is randomly chosen on the unit square $[0, 1] \\times [0, 1]$. Our task is to find out where that point is based on a sequence of relative direction of randomly generated points on the square. E.g. If $(x^*, y^*) = (0.5, 0.5)$ and the first randomly generated point is $(x_1, y_1) = (0.9, 0.3)$ then we obtain one data point of $SE$ since $(x, y)$ is south east of $(x^*, y^*)$. \n",
    "\n",
    "## Likelihood function\n",
    "The likelihood of observing $N$ north calls and $E$ east calls in a sequence of $n$ points is given by \n",
    "\n",
    "$$\n",
    "\\begin{align*}\n",
    "L(x, y) \n",
    "&= p(N, E | x^*, y) \\\\\n",
    "&= p(N | y) p(E | x) \\\\\n",
    "&= \\binom{n}{N}(1-y)^N y^{n - N} \\binom{n}{E} (1 - x)^E x^{n - E}.\n",
    "\\end{align*}\n",
    "$$\n",
    "Notice that \n",
    "  * We are assuming that the points are generated **uniformly at random**. The set up did not tell us that, we are making a modelling assumption here. \n",
    "  * In constructing the likelihood function above, we assumed that the North-South and East-West direction are independent. This is not true in general, this is the \"naive\" assumption, though in this case this follows from the much stronger first assumption above. \n",
    "  * The likelihood function is usually thought of as a function of the information we wish to know, in this case the position of the point $P = (x^*, y^*)$, and the likelihood $L(x, y)$ is asking \"what is the probability of observing the sequence $\\{NE, SE, \\dots\\}$ data if $P = (x, y)$\". Crucially, this is *NOT* the probabiliy of $(x, y)$ in any sense of the word. To get the probability interpretation, we need Bayes formula. \n",
    "\n",
    "\n",
    "## Bayes formula\n",
    "$$\n",
    "p(x, y | N, E) = \\frac{L(x, y) p(x, y)}{p(N, E)}\n",
    "$$\n",
    "where $p(x, y)$ is a prior and $p(N, E)$ is the evidence (while it is just a normalising constant, it is the term that tell us how likely our modelling assumption is. If the true point generator far from uniform, then evidence is going to be really low). \n",
    "\n",
    "\n",
    "## Demo\n",
    "Run the follow cell in a Jupyter notebook and give different values of $N$ and $E$ (and control the total $n$ by giving corresponding $S$ and $W$) to see how the posterior changes and how the Maximum Likelihood estimate need not agree with what the posterior says. "
   ]
  },
  {
   "cell_type": "code",
   "execution_count": 94,
   "id": "090e4386",
   "metadata": {},
   "outputs": [
    {
     "data": {
      "application/vnd.jupyter.widget-view+json": {
       "model_id": "e3ae4ff42aef4e1883081b2a4f34c1e1",
       "version_major": 2,
       "version_minor": 0
      },
      "text/plain": [
       "interactive(children=(IntSlider(value=4, description='north', max=8), IntSlider(value=4, description='south', …"
      ]
     },
     "metadata": {},
     "output_type": "display_data"
    }
   ],
   "source": [
    "#collapse-hide\n",
    "def log_likelihood(north, south, east, west, x, y):\n",
    "    x_term = east * np.log(1 - x) + west * np.log(x) \n",
    "    y_term = north * np.log(1 - y) + south * np.log(y)\n",
    "    return x_term + y_term\n",
    "\n",
    "MAX_N = 8\n",
    "@interact(\n",
    "    north=(0, MAX_N), \n",
    "    south=(0, MAX_N), \n",
    "    east=(0, MAX_N), \n",
    "    west=(0, MAX_N), \n",
    "    use_prior=True\n",
    ")\n",
    "def plot_likelihood(north, south, east, west, use_prior):\n",
    "    xlist = np.linspace(0.001, 0.999, 100)\n",
    "    ylist = np.linspace(0.001, 0.999, 100)\n",
    "    X, Y = np.meshgrid(xlist, ylist)\n",
    "    Z = np.exp(log_likelihood(north, south, east, west, X, Y))\n",
    "    \n",
    "    if use_prior:\n",
    "        sigma = 0.5\n",
    "        prior = (\n",
    "            np.exp(-(X - 0.5)**2 / (2 * sigma**2)) \n",
    "            * np.exp(-(Y - 0.5)**2 / (2 * sigma**2))\n",
    "        )\n",
    "    else: \n",
    "        prior = 1\n",
    "    \n",
    "    Z *= prior\n",
    "\n",
    "    \n",
    "    fig, ax = plt.subplots(1, 1, figsize=(8, 8))\n",
    "    ax.contourf(X, Y, Z, levels=20, cmap=\"hot_r\")\n",
    "    ax.vlines([0.5], ymin=0, ymax=1, linestyle=\"dotted\")\n",
    "    ax.hlines([0.5], xmin=0, xmax=1, linestyle=\"dotted\")\n",
    "    \n",
    "#     x_index, y_index = np.unravel_index(np.argmax(Z, axis=None), Z.shape)\n",
    "#     x_mle = xlist[x_index]\n",
    "#     y_mle = ylist[y_index]\n",
    "    x_mle = west / max((east + west), 1)\n",
    "    y_mle = south / max(north + south, 1)\n",
    "    ax.plot([x_mle], [y_mle], \"o\", markersize=10, color=\"orange\")\n",
    "    ax.set_title(f\"Posterior contour. \\nMaximum Likelihood at: ({x_mle:.2f}, {y_mle:.2f})\")"
   ]
  },
  {
   "cell_type": "code",
   "execution_count": 95,
   "id": "e5656294",
   "metadata": {},
   "outputs": [
    {
     "data": {
      "image/png": "[encoded data removed]",
      "text/plain": [
       "<Figure size 576x576 with 1 Axes>"
      ]
     },
     "metadata": {
      "needs_background": "light"
     },
     "output_type": "display_data"
    }
   ],
   "source": [
    "#hide_input\n",
    "plot_likelihood(1, 0, 1, 0, use_prior=True)"
   ]
  },
  {
   "cell_type": "markdown",
   "id": "ed957e52",
   "metadata": {},
   "source": [
    "# Decision tree\n",
    "\n",
    "\n",
    "An illustration of a \"regression tree\": See [sklearn docs](https://scikit-learn.org/stable/modules/tree.html)\n",
    "![](https://scikit-learn.org/stable/_images/sphx_glr_plot_tree_regression_001.png)"
   ]
  },
  {
   "cell_type": "code",
   "execution_count": null,
   "id": "e0eb9f3c",
   "metadata": {},
   "outputs": [],
   "source": []
  }
 ],
 "metadata": {
  "kernelspec": {
   "display_name": "Python 3 (ipykernel)",
   "language": "python",
   "name": "python3"
  },
  "language_info": {
   "codemirror_mode": {
    "name": "ipython",
    "version": 3
   },
   "file_extension": ".py",
   "mimetype": "text/x-python",
   "name": "python",
   "nbconvert_exporter": "python",
   "pygments_lexer": "ipython3",
   "version": "3.9.12"
  }
 },
 "nbformat": 4,
 "nbformat_minor": 5
}
